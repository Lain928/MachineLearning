{
 "cells": [
  {
   "cell_type": "markdown",
   "metadata": {},
   "source": [
    "# 演员请就位2弹幕数据分析"
   ]
  },
  {
   "cell_type": "markdown",
   "metadata": {},
   "source": [
    "## 数据读入"
   ]
  },
  {
   "cell_type": "code",
   "execution_count": 1,
   "metadata": {},
   "outputs": [],
   "source": [
    "# 导入库\n",
    "import os  \n",
    "import jieba\n",
    "import numpy as np\n",
    "import pandas as pd \n",
    "\n",
    "from pyecharts.charts import Bar, Pie, Line, WordCloud, Page\n",
    "from pyecharts import options as opts \n",
    "from pyecharts.globals import SymbolType, WarningType\n",
    "WarningType.ShowWarning = False\n",
    "\n",
    "import stylecloud\n",
    "from IPython.display import Image # 用于在jupyter lab中显示本地图"
   ]
  },
  {
   "cell_type": "code",
   "execution_count": 3,
   "metadata": {},
   "outputs": [
    {
     "name": "stdout",
     "output_type": "stream",
     "text": [
      "第一期上集.csv\n",
      "第一期下集.csv\n",
      "第三期上集.csv\n",
      "第三期下集.csv\n",
      "第二期上集.csv\n",
      "第二期下集.csv\n",
      "第五期上集.csv\n",
      "第五期下集.csv\n",
      "第四期上集.csv\n",
      "第四期下集.csv\n",
      "(406721, 7)\n"
     ]
    }
   ],
   "source": [
    "# 读入数据\n",
    "data_list = os.listdir('../data/')\n",
    "\n",
    "df_all = pd.DataFrame()\n",
    "\n",
    "for i in data_list[-10:]:\n",
    "    print(i) \n",
    "    df_one = pd.read_csv(f'../data/{i}', engine='python', encoding='utf-8', index_col=0) \n",
    "    df_all = df_all.append(df_one, ignore_index=False)\n",
    "\n",
    "print(df_all.shape) "
   ]
  },
  {
   "cell_type": "code",
   "execution_count": 4,
   "metadata": {},
   "outputs": [
    {
     "name": "stdout",
     "output_type": "stream",
     "text": [
      "<class 'pandas.core.frame.DataFrame'>\n",
      "Int64Index: 406721 entries, 0 to 44081\n",
      "Data columns (total 7 columns):\n",
      "episodes      406721 non-null object\n",
      "comment_id    406721 non-null int64\n",
      "oper_name     165328 non-null object\n",
      "vip_degree    406721 non-null int64\n",
      "content       406721 non-null object\n",
      "time_point    406721 non-null int64\n",
      "up_count      406721 non-null int64\n",
      "dtypes: int64(4), object(3)\n",
      "memory usage: 24.8+ MB\n"
     ]
    }
   ],
   "source": [
    "df_all.info() "
   ]
  },
  {
   "cell_type": "markdown",
   "metadata": {},
   "source": [
    "## 数据预处理"
   ]
  },
  {
   "cell_type": "code",
   "execution_count": 5,
   "metadata": {},
   "outputs": [
    {
     "data": {
      "text/html": [
       "<div>\n",
       "<style scoped>\n",
       "    .dataframe tbody tr th:only-of-type {\n",
       "        vertical-align: middle;\n",
       "    }\n",
       "\n",
       "    .dataframe tbody tr th {\n",
       "        vertical-align: top;\n",
       "    }\n",
       "\n",
       "    .dataframe thead th {\n",
       "        text-align: right;\n",
       "    }\n",
       "</style>\n",
       "<table border=\"1\" class=\"dataframe\">\n",
       "  <thead>\n",
       "    <tr style=\"text-align: right;\">\n",
       "      <th></th>\n",
       "      <th>episodes</th>\n",
       "      <th>comment_id</th>\n",
       "      <th>oper_name</th>\n",
       "      <th>vip_degree</th>\n",
       "      <th>content</th>\n",
       "      <th>time_point</th>\n",
       "      <th>up_count</th>\n",
       "    </tr>\n",
       "  </thead>\n",
       "  <tbody>\n",
       "    <tr>\n",
       "      <th>0</th>\n",
       "      <td>第一期上</td>\n",
       "      <td>6717761110280435812</td>\n",
       "      <td>跌跌撞撞</td>\n",
       "      <td>2</td>\n",
       "      <td>哈哈</td>\n",
       "      <td>19</td>\n",
       "      <td>48</td>\n",
       "    </tr>\n",
       "    <tr>\n",
       "      <th>1</th>\n",
       "      <td>第一期上</td>\n",
       "      <td>6717761069147254852</td>\n",
       "      <td>抑扬</td>\n",
       "      <td>0</td>\n",
       "      <td>11111111111</td>\n",
       "      <td>19</td>\n",
       "      <td>25</td>\n",
       "    </tr>\n",
       "    <tr>\n",
       "      <th>2</th>\n",
       "      <td>第一期上</td>\n",
       "      <td>6717761193165433088</td>\n",
       "      <td>NaN</td>\n",
       "      <td>3</td>\n",
       "      <td>还有谁</td>\n",
       "      <td>17</td>\n",
       "      <td>24</td>\n",
       "    </tr>\n",
       "    <tr>\n",
       "      <th>3</th>\n",
       "      <td>第一期上</td>\n",
       "      <td>6717761031483408824</td>\n",
       "      <td>咩💨</td>\n",
       "      <td>2</td>\n",
       "      <td>来了来了</td>\n",
       "      <td>15</td>\n",
       "      <td>38</td>\n",
       "    </tr>\n",
       "    <tr>\n",
       "      <th>4</th>\n",
       "      <td>第一期上</td>\n",
       "      <td>6717761007696148412</td>\n",
       "      <td>NaN</td>\n",
       "      <td>0</td>\n",
       "      <td>第一不错</td>\n",
       "      <td>19</td>\n",
       "      <td>6</td>\n",
       "    </tr>\n",
       "  </tbody>\n",
       "</table>\n",
       "</div>"
      ],
      "text/plain": [
       "  episodes           comment_id oper_name  vip_degree       content  \\\n",
       "0     第一期上  6717761110280435812      跌跌撞撞           2            哈哈   \n",
       "1     第一期上  6717761069147254852        抑扬           0   11111111111   \n",
       "2     第一期上  6717761193165433088       NaN           3           还有谁   \n",
       "3     第一期上  6717761031483408824        咩💨           2          来了来了   \n",
       "4     第一期上  6717761007696148412       NaN           0          第一不错   \n",
       "\n",
       "   time_point  up_count  \n",
       "0          19        48  \n",
       "1          19        25  \n",
       "2          17        24  \n",
       "3          15        38  \n",
       "4          19         6  "
      ]
     },
     "execution_count": 5,
     "metadata": {},
     "output_type": "execute_result"
    }
   ],
   "source": [
    "# 删除弹幕角色\n",
    "df_all['content'] = df_all['content'].str.replace('(.*?:)', '')\n",
    "df_all.head() "
   ]
  },
  {
   "cell_type": "code",
   "execution_count": 7,
   "metadata": {},
   "outputs": [
    {
     "data": {
      "text/html": [
       "<div>\n",
       "<style scoped>\n",
       "    .dataframe tbody tr th:only-of-type {\n",
       "        vertical-align: middle;\n",
       "    }\n",
       "\n",
       "    .dataframe tbody tr th {\n",
       "        vertical-align: top;\n",
       "    }\n",
       "\n",
       "    .dataframe thead th {\n",
       "        text-align: right;\n",
       "    }\n",
       "</style>\n",
       "<table border=\"1\" class=\"dataframe\">\n",
       "  <thead>\n",
       "    <tr style=\"text-align: right;\">\n",
       "      <th></th>\n",
       "      <th>index</th>\n",
       "      <th>episodes</th>\n",
       "    </tr>\n",
       "  </thead>\n",
       "  <tbody>\n",
       "    <tr>\n",
       "      <th>0</th>\n",
       "      <td>第一期上</td>\n",
       "      <td>57620</td>\n",
       "    </tr>\n",
       "    <tr>\n",
       "      <th>1</th>\n",
       "      <td>第三期上</td>\n",
       "      <td>55080</td>\n",
       "    </tr>\n",
       "    <tr>\n",
       "      <th>2</th>\n",
       "      <td>第二期上</td>\n",
       "      <td>47592</td>\n",
       "    </tr>\n",
       "    <tr>\n",
       "      <th>3</th>\n",
       "      <td>第四期上</td>\n",
       "      <td>44966</td>\n",
       "    </tr>\n",
       "    <tr>\n",
       "      <th>4</th>\n",
       "      <td>第三期下</td>\n",
       "      <td>44672</td>\n",
       "    </tr>\n",
       "    <tr>\n",
       "      <th>5</th>\n",
       "      <td>第四期下</td>\n",
       "      <td>44082</td>\n",
       "    </tr>\n",
       "    <tr>\n",
       "      <th>6</th>\n",
       "      <td>第二期下</td>\n",
       "      <td>41762</td>\n",
       "    </tr>\n",
       "    <tr>\n",
       "      <th>7</th>\n",
       "      <td>第五期上</td>\n",
       "      <td>31044</td>\n",
       "    </tr>\n",
       "    <tr>\n",
       "      <th>8</th>\n",
       "      <td>第一期下</td>\n",
       "      <td>29256</td>\n",
       "    </tr>\n",
       "    <tr>\n",
       "      <th>9</th>\n",
       "      <td>第五期下</td>\n",
       "      <td>10647</td>\n",
       "    </tr>\n",
       "  </tbody>\n",
       "</table>\n",
       "</div>"
      ],
      "text/plain": [
       "  index  episodes\n",
       "0  第一期上     57620\n",
       "1  第三期上     55080\n",
       "2  第二期上     47592\n",
       "3  第四期上     44966\n",
       "4  第三期下     44672\n",
       "5  第四期下     44082\n",
       "6  第二期下     41762\n",
       "7  第五期上     31044\n",
       "8  第一期下     29256\n",
       "9  第五期下     10647"
      ]
     },
     "execution_count": 7,
     "metadata": {},
     "output_type": "execute_result"
    }
   ],
   "source": [
    "df_epinum"
   ]
  },
  {
   "cell_type": "code",
   "execution_count": 8,
   "metadata": {},
   "outputs": [
    {
     "data": {
      "text/html": [
       "<div>\n",
       "<style scoped>\n",
       "    .dataframe tbody tr th:only-of-type {\n",
       "        vertical-align: middle;\n",
       "    }\n",
       "\n",
       "    .dataframe tbody tr th {\n",
       "        vertical-align: top;\n",
       "    }\n",
       "\n",
       "    .dataframe thead th {\n",
       "        text-align: right;\n",
       "    }\n",
       "</style>\n",
       "<table border=\"1\" class=\"dataframe\">\n",
       "  <thead>\n",
       "    <tr style=\"text-align: right;\">\n",
       "      <th></th>\n",
       "      <th>index</th>\n",
       "      <th>episodes</th>\n",
       "      <th>num</th>\n",
       "    </tr>\n",
       "  </thead>\n",
       "  <tbody>\n",
       "    <tr>\n",
       "      <th>0</th>\n",
       "      <td>第一期上</td>\n",
       "      <td>57620</td>\n",
       "      <td>1</td>\n",
       "    </tr>\n",
       "    <tr>\n",
       "      <th>8</th>\n",
       "      <td>第一期下</td>\n",
       "      <td>29256</td>\n",
       "      <td>2</td>\n",
       "    </tr>\n",
       "    <tr>\n",
       "      <th>2</th>\n",
       "      <td>第二期上</td>\n",
       "      <td>47592</td>\n",
       "      <td>3</td>\n",
       "    </tr>\n",
       "    <tr>\n",
       "      <th>6</th>\n",
       "      <td>第二期下</td>\n",
       "      <td>41762</td>\n",
       "      <td>4</td>\n",
       "    </tr>\n",
       "    <tr>\n",
       "      <th>1</th>\n",
       "      <td>第三期上</td>\n",
       "      <td>55080</td>\n",
       "      <td>5</td>\n",
       "    </tr>\n",
       "    <tr>\n",
       "      <th>4</th>\n",
       "      <td>第三期下</td>\n",
       "      <td>44672</td>\n",
       "      <td>6</td>\n",
       "    </tr>\n",
       "    <tr>\n",
       "      <th>3</th>\n",
       "      <td>第四期上</td>\n",
       "      <td>44966</td>\n",
       "      <td>7</td>\n",
       "    </tr>\n",
       "    <tr>\n",
       "      <th>5</th>\n",
       "      <td>第四期下</td>\n",
       "      <td>44082</td>\n",
       "      <td>8</td>\n",
       "    </tr>\n",
       "    <tr>\n",
       "      <th>7</th>\n",
       "      <td>第五期上</td>\n",
       "      <td>31044</td>\n",
       "      <td>9</td>\n",
       "    </tr>\n",
       "    <tr>\n",
       "      <th>9</th>\n",
       "      <td>第五期下</td>\n",
       "      <td>10647</td>\n",
       "      <td>10</td>\n",
       "    </tr>\n",
       "  </tbody>\n",
       "</table>\n",
       "</div>"
      ],
      "text/plain": [
       "  index  episodes  num\n",
       "0  第一期上     57620    1\n",
       "8  第一期下     29256    2\n",
       "2  第二期上     47592    3\n",
       "6  第二期下     41762    4\n",
       "1  第三期上     55080    5\n",
       "4  第三期下     44672    6\n",
       "3  第四期上     44966    7\n",
       "5  第四期下     44082    8\n",
       "7  第五期上     31044    9\n",
       "9  第五期下     10647   10"
      ]
     },
     "execution_count": 8,
     "metadata": {},
     "output_type": "execute_result"
    }
   ],
   "source": [
    "df_epinum = df_all['episodes'].value_counts().reset_index()\n",
    "df_epinum['num'] = [1, 5, 3, 7, 6, 8, 4, 9, 2, 10]\n",
    "df_epinum = df_epinum.sort_values('num') \n",
    "df_epinum"
   ]
  },
  {
   "cell_type": "code",
   "execution_count": 9,
   "metadata": {},
   "outputs": [
    {
     "data": {
      "text/plain": [
       "'C:\\\\Users\\\\wzd\\\\Desktop\\\\CDA\\\\CDA_Python\\\\Python项目实作\\\\网络爬虫\\\\影视视频\\\\腾讯视频\\\\演员请就位2\\\\code\\\\render.html'"
      ]
     },
     "execution_count": 9,
     "metadata": {},
     "output_type": "execute_result"
    }
   ],
   "source": [
    "x_data = df_epinum['index'].tolist()\n",
    "y_data = df_epinum['episodes'].tolist()\n",
    "\n",
    "# 条形图\n",
    "bar1 = Bar(init_opts=opts.InitOpts(width='1350px', height='750px'))\n",
    "bar1.add_xaxis(xaxis_data=x_data)\n",
    "bar1.add_yaxis('', y_axis=y_data)\n",
    "bar1.set_global_opts(title_opts=opts.TitleOpts(title='前五期的弹幕数走势图'), \n",
    "                     visualmap_opts=opts.VisualMapOpts(max_=60000, is_show=False) \n",
    "                    )\n",
    "bar1.render() "
   ]
  },
  {
   "cell_type": "markdown",
   "metadata": {},
   "source": [
    "## 数据可视化"
   ]
  },
  {
   "cell_type": "markdown",
   "metadata": {},
   "source": [
    "### 弹幕中主要导演提及次数"
   ]
  },
  {
   "cell_type": "code",
   "execution_count": 10,
   "metadata": {},
   "outputs": [
    {
     "name": "stdout",
     "output_type": "stream",
     "text": [
      "8228 3380 7891 10166 3897\n"
     ]
    }
   ],
   "source": [
    "chen_num = df_all.content.str.contains('凯歌').sum()\n",
    "er_num = df_all.content.str.contains('冬升').sum()\n",
    "zhao_num = df_all.content.str.contains('赵薇').sum()\n",
    "guo_num = df_all.content.str.contains('敬明|小四').sum()\n",
    "li_num = df_all.content.str.contains('诚儒').sum()\n",
    "\n",
    "print(chen_num, er_num, zhao_num, guo_num, li_num) "
   ]
  },
  {
   "cell_type": "code",
   "execution_count": 11,
   "metadata": {},
   "outputs": [
    {
     "data": {
      "text/html": [
       "<div>\n",
       "<style scoped>\n",
       "    .dataframe tbody tr th:only-of-type {\n",
       "        vertical-align: middle;\n",
       "    }\n",
       "\n",
       "    .dataframe tbody tr th {\n",
       "        vertical-align: top;\n",
       "    }\n",
       "\n",
       "    .dataframe thead th {\n",
       "        text-align: right;\n",
       "    }\n",
       "</style>\n",
       "<table border=\"1\" class=\"dataframe\">\n",
       "  <thead>\n",
       "    <tr style=\"text-align: right;\">\n",
       "      <th></th>\n",
       "      <th>name</th>\n",
       "      <th>number</th>\n",
       "    </tr>\n",
       "  </thead>\n",
       "  <tbody>\n",
       "    <tr>\n",
       "      <th>3</th>\n",
       "      <td>郭敬明</td>\n",
       "      <td>10166</td>\n",
       "    </tr>\n",
       "    <tr>\n",
       "      <th>0</th>\n",
       "      <td>陈凯歌</td>\n",
       "      <td>8228</td>\n",
       "    </tr>\n",
       "    <tr>\n",
       "      <th>2</th>\n",
       "      <td>赵薇</td>\n",
       "      <td>7891</td>\n",
       "    </tr>\n",
       "    <tr>\n",
       "      <th>4</th>\n",
       "      <td>李诚儒</td>\n",
       "      <td>3897</td>\n",
       "    </tr>\n",
       "    <tr>\n",
       "      <th>1</th>\n",
       "      <td>尔冬升</td>\n",
       "      <td>3380</td>\n",
       "    </tr>\n",
       "  </tbody>\n",
       "</table>\n",
       "</div>"
      ],
      "text/plain": [
       "  name  number\n",
       "3  郭敬明   10166\n",
       "0  陈凯歌    8228\n",
       "2   赵薇    7891\n",
       "4  李诚儒    3897\n",
       "1  尔冬升    3380"
      ]
     },
     "execution_count": 11,
     "metadata": {},
     "output_type": "execute_result"
    }
   ],
   "source": [
    "df_num = pd.DataFrame({\n",
    "    'name': ['陈凯歌', '尔冬升', '赵薇', '郭敬明', '李诚儒'],\n",
    "    'number': [chen_num, er_num, zhao_num, guo_num, li_num]\n",
    "})\n",
    "df_num = df_num.sort_values('number', ascending=False)\n",
    "df_num"
   ]
  },
  {
   "cell_type": "code",
   "execution_count": 12,
   "metadata": {},
   "outputs": [
    {
     "data": {
      "text/plain": [
       "'C:\\\\Users\\\\wzd\\\\Desktop\\\\CDA\\\\CDA_Python\\\\Python项目实作\\\\网络爬虫\\\\影视视频\\\\腾讯视频\\\\演员请就位2\\\\code\\\\render.html'"
      ]
     },
     "execution_count": 12,
     "metadata": {},
     "output_type": "execute_result"
    }
   ],
   "source": [
    "# 产生数据\n",
    "x_data = df_num['name'].values.tolist()\n",
    "y_data = df_num['number'].values.tolist()\n",
    "\n",
    "# 条形图\n",
    "bar2 = Bar(init_opts=opts.InitOpts(width='1350px', height='750px'))\n",
    "bar2.add_xaxis(x_data)\n",
    "bar2.add_yaxis('', y_data)\n",
    "bar2.set_global_opts(title_opts=opts.TitleOpts(title='弹幕中主要导演的提及次数'), \n",
    "                     visualmap_opts=opts.VisualMapOpts(max_=int(max(df_num['number'])), is_show=False)\n",
    "                    )\n",
    "\n",
    "bar2.render() "
   ]
  },
  {
   "cell_type": "markdown",
   "metadata": {},
   "source": [
    "### 弹幕中演员提及次数Top10"
   ]
  },
  {
   "cell_type": "code",
   "execution_count": 13,
   "metadata": {},
   "outputs": [
    {
     "data": {
      "text/plain": [
       "['小彩旗', '曹骏', '丁程鑫', '董思怡', '费启鸣']"
      ]
     },
     "execution_count": 13,
     "metadata": {},
     "output_type": "execute_result"
    }
   ],
   "source": [
    "actor = '小彩旗 / 曹骏 / 丁程鑫 / 董思怡 / 费启鸣 / 郭晓婷 / 贺开朗 / 黄璐 / 黄梦莹 / 胡杏儿 / 黄奕 / 辣目洋子 / 刘芮麟 / 李溪芮 / 娄艺潇 / 李智楠 / 马伯骞 / 马苏 / 孟子义 / 倪虹洁 / 任敏 / 施柏宇 / 孙千 / 孙阳 / 唐一菲 / 陈宥维 / 何昶希 / 王楚然 / 王锵 / 王莎莎 / 王智 / 温峥嵘 / 晏紫东 / 杨志刚 / 张大大 / 张海宇 / 张铭恩 / 张月 / 张逸杰 / 邹元清 / 李诚儒 / 尹子维 / 王茂蕾 / 秦越 / 张熙然 / 李彩桦 / 沈保平 / 马志威'\n",
    "actor_list = actor.split(' / ')\n",
    "actor_list[:5] "
   ]
  },
  {
   "cell_type": "code",
   "execution_count": 14,
   "metadata": {},
   "outputs": [
    {
     "data": {
      "text/plain": [
       "[742, 9666, 1739, 604, 727]"
      ]
     },
     "execution_count": 14,
     "metadata": {},
     "output_type": "execute_result"
    }
   ],
   "source": [
    "tiji_num = [df_all.content.str.contains(i).sum() for i in actor_list] \n",
    "tiji_num[:5]  "
   ]
  },
  {
   "cell_type": "code",
   "execution_count": 15,
   "metadata": {},
   "outputs": [
    {
     "data": {
      "text/html": [
       "<div>\n",
       "<style scoped>\n",
       "    .dataframe tbody tr th:only-of-type {\n",
       "        vertical-align: middle;\n",
       "    }\n",
       "\n",
       "    .dataframe tbody tr th {\n",
       "        vertical-align: top;\n",
       "    }\n",
       "\n",
       "    .dataframe thead th {\n",
       "        text-align: right;\n",
       "    }\n",
       "</style>\n",
       "<table border=\"1\" class=\"dataframe\">\n",
       "  <thead>\n",
       "    <tr style=\"text-align: right;\">\n",
       "      <th></th>\n",
       "      <th>actor_name</th>\n",
       "      <th>tiji_num</th>\n",
       "    </tr>\n",
       "  </thead>\n",
       "  <tbody>\n",
       "    <tr>\n",
       "      <th>0</th>\n",
       "      <td>小彩旗</td>\n",
       "      <td>742</td>\n",
       "    </tr>\n",
       "    <tr>\n",
       "      <th>1</th>\n",
       "      <td>曹骏</td>\n",
       "      <td>9666</td>\n",
       "    </tr>\n",
       "    <tr>\n",
       "      <th>2</th>\n",
       "      <td>丁程鑫</td>\n",
       "      <td>1739</td>\n",
       "    </tr>\n",
       "    <tr>\n",
       "      <th>3</th>\n",
       "      <td>董思怡</td>\n",
       "      <td>604</td>\n",
       "    </tr>\n",
       "    <tr>\n",
       "      <th>4</th>\n",
       "      <td>费启鸣</td>\n",
       "      <td>727</td>\n",
       "    </tr>\n",
       "  </tbody>\n",
       "</table>\n",
       "</div>"
      ],
      "text/plain": [
       "  actor_name  tiji_num\n",
       "0        小彩旗       742\n",
       "1         曹骏      9666\n",
       "2        丁程鑫      1739\n",
       "3        董思怡       604\n",
       "4        费启鸣       727"
      ]
     },
     "execution_count": 15,
     "metadata": {},
     "output_type": "execute_result"
    }
   ],
   "source": [
    "df_actor = pd.DataFrame({\n",
    "    'actor_name': actor_list,\n",
    "    'tiji_num': tiji_num\n",
    "})\n",
    "\n",
    "df_actor.head() "
   ]
  },
  {
   "cell_type": "code",
   "execution_count": 16,
   "metadata": {},
   "outputs": [
    {
     "data": {
      "text/html": [
       "<div>\n",
       "<style scoped>\n",
       "    .dataframe tbody tr th:only-of-type {\n",
       "        vertical-align: middle;\n",
       "    }\n",
       "\n",
       "    .dataframe tbody tr th {\n",
       "        vertical-align: top;\n",
       "    }\n",
       "\n",
       "    .dataframe thead th {\n",
       "        text-align: right;\n",
       "    }\n",
       "</style>\n",
       "<table border=\"1\" class=\"dataframe\">\n",
       "  <thead>\n",
       "    <tr style=\"text-align: right;\">\n",
       "      <th></th>\n",
       "      <th>actor_name</th>\n",
       "      <th>tiji_num</th>\n",
       "    </tr>\n",
       "  </thead>\n",
       "  <tbody>\n",
       "    <tr>\n",
       "      <th>30</th>\n",
       "      <td>王智</td>\n",
       "      <td>3341</td>\n",
       "    </tr>\n",
       "    <tr>\n",
       "      <th>22</th>\n",
       "      <td>孙千</td>\n",
       "      <td>3375</td>\n",
       "    </tr>\n",
       "    <tr>\n",
       "      <th>17</th>\n",
       "      <td>马苏</td>\n",
       "      <td>3646</td>\n",
       "    </tr>\n",
       "    <tr>\n",
       "      <th>20</th>\n",
       "      <td>任敏</td>\n",
       "      <td>4075</td>\n",
       "    </tr>\n",
       "    <tr>\n",
       "      <th>9</th>\n",
       "      <td>胡杏儿</td>\n",
       "      <td>4201</td>\n",
       "    </tr>\n",
       "    <tr>\n",
       "      <th>19</th>\n",
       "      <td>倪虹洁</td>\n",
       "      <td>4598</td>\n",
       "    </tr>\n",
       "    <tr>\n",
       "      <th>34</th>\n",
       "      <td>张大大</td>\n",
       "      <td>4969</td>\n",
       "    </tr>\n",
       "    <tr>\n",
       "      <th>10</th>\n",
       "      <td>黄奕</td>\n",
       "      <td>5732</td>\n",
       "    </tr>\n",
       "    <tr>\n",
       "      <th>33</th>\n",
       "      <td>杨志刚</td>\n",
       "      <td>6058</td>\n",
       "    </tr>\n",
       "    <tr>\n",
       "      <th>1</th>\n",
       "      <td>曹骏</td>\n",
       "      <td>9666</td>\n",
       "    </tr>\n",
       "  </tbody>\n",
       "</table>\n",
       "</div>"
      ],
      "text/plain": [
       "   actor_name  tiji_num\n",
       "30         王智      3341\n",
       "22         孙千      3375\n",
       "17         马苏      3646\n",
       "20         任敏      4075\n",
       "9         胡杏儿      4201\n",
       "19        倪虹洁      4598\n",
       "34        张大大      4969\n",
       "10         黄奕      5732\n",
       "33        杨志刚      6058\n",
       "1          曹骏      9666"
      ]
     },
     "execution_count": 16,
     "metadata": {},
     "output_type": "execute_result"
    }
   ],
   "source": [
    "tiji_top10 = df_actor.sort_values('tiji_num', ascending=False).head(10)\n",
    "tiji_top10 = tiji_top10.sort_values('tiji_num')\n",
    "tiji_top10"
   ]
  },
  {
   "cell_type": "code",
   "execution_count": 17,
   "metadata": {},
   "outputs": [
    {
     "data": {
      "text/plain": [
       "'C:\\\\Users\\\\wzd\\\\Desktop\\\\CDA\\\\CDA_Python\\\\Python项目实作\\\\网络爬虫\\\\影视视频\\\\腾讯视频\\\\演员请就位2\\\\code\\\\render.html'"
      ]
     },
     "execution_count": 17,
     "metadata": {},
     "output_type": "execute_result"
    }
   ],
   "source": [
    "# 产生数据\n",
    "x_data = tiji_top10['actor_name'].values.tolist()\n",
    "y_data = tiji_top10['tiji_num'].values.tolist()\n",
    "\n",
    "# 条形图\n",
    "bar3 = Bar(init_opts=opts.InitOpts(width='1350px', height='750px'))\n",
    "bar3.add_xaxis(x_data)\n",
    "bar3.add_yaxis('', y_data)\n",
    "bar3.set_global_opts(title_opts=opts.TitleOpts(title='弹幕中演员提及次数排行Top10'), \n",
    "                     visualmap_opts=opts.VisualMapOpts(max_=int(max(tiji_top10['tiji_num'])), is_show=False)\n",
    "                    )\n",
    "bar3.set_series_opts(label_opts=opts.LabelOpts(position='right'))\n",
    "bar3.reversal_axis()\n",
    "bar3.render() "
   ]
  },
  {
   "cell_type": "code",
   "execution_count": 18,
   "metadata": {},
   "outputs": [
    {
     "data": {
      "text/plain": [
       "'C:\\\\Users\\\\wzd\\\\Desktop\\\\CDA\\\\CDA_Python\\\\Python项目实作\\\\网络爬虫\\\\影视视频\\\\腾讯视频\\\\演员请就位2\\\\image\\\\演员请就位2弹幕分析.html'"
      ]
     },
     "execution_count": 18,
     "metadata": {},
     "output_type": "execute_result"
    }
   ],
   "source": [
    "page = Page() \n",
    "page.add(bar1, bar2, bar3)\n",
    "page.render('../image/演员请就位2弹幕分析.html')"
   ]
  },
  {
   "cell_type": "markdown",
   "metadata": {},
   "source": [
    "### 弹幕角色词云 - 陈凯歌"
   ]
  },
  {
   "cell_type": "code",
   "execution_count": 19,
   "metadata": {},
   "outputs": [],
   "source": [
    "def get_cut_words(x_series):\n",
    "    # 读入停用词表\n",
    "    stop_words = [] \n",
    "    \n",
    "    with open(r\"C:\\Users\\wzd\\Desktop\\CDA\\CDA_Python\\Python文本分析\\10.文本摘要\\stop_words.txt\", 'r', encoding='utf-8') as f:\n",
    "        lines = f.readlines()\n",
    "        for line in lines:\n",
    "            stop_words.append(line.strip())\n",
    "\n",
    "    # 添加关键词\n",
    "    my_words = ['陈凯歌', '尔冬升', '赵薇', '郭敬明', '小四', '大鹏', '李诚儒']   \n",
    "    for i in my_words:\n",
    "        jieba.add_word(i) \n",
    "\n",
    "    # 自定义停用词\n",
    "    my_stop_words = ['哈哈哈', '哈哈哈哈', '评论']\n",
    "    stop_words.extend(my_stop_words)               \n",
    "\n",
    "    # 分词\n",
    "    word_num = jieba.lcut(x_series.astype('str').str.cat(sep='。'), cut_all=False)\n",
    "\n",
    "    # 条件筛选\n",
    "    word_num_selected = [i for i in word_num if i not in stop_words and len(i)>=2]\n",
    "    \n",
    "    return word_num_selected"
   ]
  },
  {
   "cell_type": "code",
   "execution_count": 20,
   "metadata": {},
   "outputs": [
    {
     "name": "stderr",
     "output_type": "stream",
     "text": [
      "Building prefix dict from the default dictionary ...\n",
      "Loading model from cache C:\\Users\\wzd\\AppData\\Local\\Temp\\jieba.cache\n",
      "Loading model cost 1.146 seconds.\n",
      "Prefix dict has been built successfully.\n"
     ]
    },
    {
     "data": {
      "text/plain": [
       "['凯歌', '导演', '我来', '凯歌', '导演']"
      ]
     },
     "execution_count": 20,
     "metadata": {},
     "output_type": "execute_result"
    }
   ],
   "source": [
    "text1 = get_cut_words(x_series=df_all[df_all.content.str.contains('凯歌')]['content'])\n",
    "text1[:5] "
   ]
  },
  {
   "cell_type": "code",
   "execution_count": 21,
   "metadata": {},
   "outputs": [],
   "source": [
    "# 绘制词云图\n",
    "def gen_my_stylecloud(text, file_name, icon_name='fas fa-heart'):\n",
    "    stylecloud.gen_stylecloud(text=' '.join(text), max_words=1000,\n",
    "                              collocations=False,\n",
    "                              font_path=r'‪C:\\Windows\\Fonts\\msyh.ttc',\n",
    "                              icon_name=icon_name,\n",
    "                              size=653,\n",
    "                              output_name=f'../image/{file_name}.png'\n",
    "                             )   "
   ]
  },
  {
   "cell_type": "code",
   "execution_count": 22,
   "metadata": {},
   "outputs": [],
   "source": [
    "gen_my_stylecloud(text=text1, file_name='弹幕角色陈凯歌-词云图') "
   ]
  },
  {
   "cell_type": "markdown",
   "metadata": {},
   "source": [
    "### 弹幕角色词云 - 尔冬升"
   ]
  },
  {
   "cell_type": "code",
   "execution_count": 23,
   "metadata": {},
   "outputs": [
    {
     "data": {
      "text/plain": [
       "['尔冬升', '尔冬升', '导演', '尔冬升', '喜欢']"
      ]
     },
     "execution_count": 23,
     "metadata": {},
     "output_type": "execute_result"
    }
   ],
   "source": [
    "text2 = get_cut_words(x_series=df_all[df_all.content.str.contains('尔冬升')]['content'])\n",
    "text2[:5] "
   ]
  },
  {
   "cell_type": "code",
   "execution_count": 24,
   "metadata": {},
   "outputs": [],
   "source": [
    "gen_my_stylecloud(text=text2, file_name='弹幕角色尔冬升-词云图', icon_name='fas fa-star')"
   ]
  },
  {
   "cell_type": "markdown",
   "metadata": {},
   "source": [
    "### 弹幕角色词云 - 赵薇"
   ]
  },
  {
   "cell_type": "code",
   "execution_count": 27,
   "metadata": {},
   "outputs": [
    {
     "data": {
      "text/plain": [
       "['赵薇', '期待', '赵薇', '导演', '赵薇']"
      ]
     },
     "execution_count": 27,
     "metadata": {},
     "output_type": "execute_result"
    }
   ],
   "source": [
    "text3 = get_cut_words(x_series=df_all[df_all.content.str.contains('赵薇')]['content'])\n",
    "text3[:5] "
   ]
  },
  {
   "cell_type": "code",
   "execution_count": 28,
   "metadata": {},
   "outputs": [],
   "source": [
    "gen_my_stylecloud(text=text3, file_name='弹幕角色赵薇-词云图', icon_name='fas fa-comments')"
   ]
  },
  {
   "cell_type": "markdown",
   "metadata": {},
   "source": [
    "### 弹幕角色词云 - 郭敬明"
   ]
  },
  {
   "cell_type": "code",
   "execution_count": 29,
   "metadata": {},
   "outputs": [
    {
     "data": {
      "text/plain": [
       "['小四', '收拾', '发现', '当年', '手抄']"
      ]
     },
     "execution_count": 29,
     "metadata": {},
     "output_type": "execute_result"
    }
   ],
   "source": [
    "text4 = get_cut_words(x_series=df_all[df_all.content.str.contains('郭敬明|小四')]['content'])\n",
    "text4[:5] "
   ]
  },
  {
   "cell_type": "code",
   "execution_count": 30,
   "metadata": {},
   "outputs": [],
   "source": [
    "gen_my_stylecloud(text=text4, file_name='弹幕角色郭敬明-词云图', icon_name='fas fa-leaf')"
   ]
  },
  {
   "cell_type": "markdown",
   "metadata": {},
   "source": [
    "### 弹幕角色词云 - 李诚儒"
   ]
  },
  {
   "cell_type": "code",
   "execution_count": 31,
   "metadata": {},
   "outputs": [
    {
     "data": {
      "text/plain": [
       "['陈凯歌', '李诚儒', '李诚儒', '双剑合', '李诚儒']"
      ]
     },
     "execution_count": 31,
     "metadata": {},
     "output_type": "execute_result"
    }
   ],
   "source": [
    "text5 = get_cut_words(x_series=df_all[df_all.content.str.contains('李诚儒')]['content'])\n",
    "text5[:5]  "
   ]
  },
  {
   "cell_type": "code",
   "execution_count": 32,
   "metadata": {},
   "outputs": [],
   "source": [
    "gen_my_stylecloud(text=text5, file_name='弹幕角色李诚儒-词云图', icon_name='fas fa-thumbs-up') "
   ]
  },
  {
   "cell_type": "markdown",
   "metadata": {},
   "source": [
    "### 弹幕角色词云 - 曹骏"
   ]
  },
  {
   "cell_type": "code",
   "execution_count": 33,
   "metadata": {},
   "outputs": [
    {
     "data": {
      "text/plain": [
       "['童年', '男神', '沉香', '曹骏', '加油']"
      ]
     },
     "execution_count": 33,
     "metadata": {},
     "output_type": "execute_result"
    }
   ],
   "source": [
    "text6 = get_cut_words(x_series=df_all[df_all.content.str.contains('曹骏')]['content'])\n",
    "text6[:5]  "
   ]
  },
  {
   "cell_type": "code",
   "execution_count": 35,
   "metadata": {},
   "outputs": [],
   "source": [
    "gen_my_stylecloud(text=text6, file_name='弹幕角色曹骏-词云图') "
   ]
  }
 ],
 "metadata": {
  "kernelspec": {
   "display_name": "Python 3",
   "language": "python",
   "name": "python3"
  },
  "language_info": {
   "codemirror_mode": {
    "name": "ipython",
    "version": 3
   },
   "file_extension": ".py",
   "mimetype": "text/x-python",
   "name": "python",
   "nbconvert_exporter": "python",
   "pygments_lexer": "ipython3",
   "version": "3.7.3"
  },
  "toc": {
   "base_numbering": 1,
   "nav_menu": {},
   "number_sections": true,
   "sideBar": true,
   "skip_h1_title": false,
   "title_cell": "Table of Contents",
   "title_sidebar": "Contents",
   "toc_cell": false,
   "toc_position": {},
   "toc_section_display": true,
   "toc_window_display": false
  },
  "varInspector": {
   "cols": {
    "lenName": 16,
    "lenType": 16,
    "lenVar": 40
   },
   "kernels_config": {
    "python": {
     "delete_cmd_postfix": "",
     "delete_cmd_prefix": "del ",
     "library": "var_list.py",
     "varRefreshCmd": "print(var_dic_list())"
    },
    "r": {
     "delete_cmd_postfix": ") ",
     "delete_cmd_prefix": "rm(",
     "library": "var_list.r",
     "varRefreshCmd": "cat(var_dic_list()) "
    }
   },
   "types_to_exclude": [
    "module",
    "function",
    "builtin_function_or_method",
    "instance",
    "_Feature"
   ],
   "window_display": false
  }
 },
 "nbformat": 4,
 "nbformat_minor": 2
}
